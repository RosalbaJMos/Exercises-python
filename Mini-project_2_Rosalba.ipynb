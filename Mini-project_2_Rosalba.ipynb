{
 "cells": [
  {
   "cell_type": "markdown",
   "id": "5d469e9c",
   "metadata": {},
   "source": [
    "# Mini Project"
   ]
  },
  {
   "cell_type": "markdown",
   "id": "f391d18b",
   "metadata": {},
   "source": [
    "This data set Diet_R2.csv contains information on 78 people using one of three diets. The dataset is primarily used for ANOVA. "
   ]
  },
  {
   "cell_type": "markdown",
   "id": "9539f60d",
   "metadata": {},
   "source": [
    "-   Paired t-test:\n",
    "Ignore diet and test to see if weight has been lost\n",
    "\n",
    "- One way ANOVA :\n",
    "Which diet was best for losing weight?\n",
    "Are there gender differences for weight lost?\n",
    "\n"
   ]
  },
  {
   "cell_type": "code",
   "execution_count": 1,
   "id": "ca34b5c6",
   "metadata": {},
   "outputs": [],
   "source": [
    "import pandas as pd\n",
    "import numpy as np\n",
    "import matplotlib.pyplot as plt\n",
    "import seaborn as sns\n",
    "import scipy.stats as st"
   ]
  },
  {
   "cell_type": "code",
   "execution_count": 2,
   "id": "cd5fdc93",
   "metadata": {},
   "outputs": [
    {
     "data": {
      "text/html": [
       "<div>\n",
       "<style scoped>\n",
       "    .dataframe tbody tr th:only-of-type {\n",
       "        vertical-align: middle;\n",
       "    }\n",
       "\n",
       "    .dataframe tbody tr th {\n",
       "        vertical-align: top;\n",
       "    }\n",
       "\n",
       "    .dataframe thead th {\n",
       "        text-align: right;\n",
       "    }\n",
       "</style>\n",
       "<table border=\"1\" class=\"dataframe\">\n",
       "  <thead>\n",
       "    <tr style=\"text-align: right;\">\n",
       "      <th></th>\n",
       "      <th>Person</th>\n",
       "      <th>gender</th>\n",
       "      <th>Age</th>\n",
       "      <th>Height</th>\n",
       "      <th>pre.weight</th>\n",
       "      <th>Diet</th>\n",
       "      <th>weight6weeks</th>\n",
       "    </tr>\n",
       "  </thead>\n",
       "  <tbody>\n",
       "    <tr>\n",
       "      <th>0</th>\n",
       "      <td>25</td>\n",
       "      <td></td>\n",
       "      <td>41</td>\n",
       "      <td>171</td>\n",
       "      <td>60</td>\n",
       "      <td>2</td>\n",
       "      <td>60.0</td>\n",
       "    </tr>\n",
       "    <tr>\n",
       "      <th>1</th>\n",
       "      <td>26</td>\n",
       "      <td></td>\n",
       "      <td>32</td>\n",
       "      <td>174</td>\n",
       "      <td>103</td>\n",
       "      <td>2</td>\n",
       "      <td>103.0</td>\n",
       "    </tr>\n",
       "    <tr>\n",
       "      <th>2</th>\n",
       "      <td>1</td>\n",
       "      <td>0</td>\n",
       "      <td>22</td>\n",
       "      <td>159</td>\n",
       "      <td>58</td>\n",
       "      <td>1</td>\n",
       "      <td>54.2</td>\n",
       "    </tr>\n",
       "    <tr>\n",
       "      <th>3</th>\n",
       "      <td>2</td>\n",
       "      <td>0</td>\n",
       "      <td>46</td>\n",
       "      <td>192</td>\n",
       "      <td>60</td>\n",
       "      <td>1</td>\n",
       "      <td>54.0</td>\n",
       "    </tr>\n",
       "    <tr>\n",
       "      <th>4</th>\n",
       "      <td>3</td>\n",
       "      <td>0</td>\n",
       "      <td>55</td>\n",
       "      <td>170</td>\n",
       "      <td>64</td>\n",
       "      <td>1</td>\n",
       "      <td>63.3</td>\n",
       "    </tr>\n",
       "    <tr>\n",
       "      <th>...</th>\n",
       "      <td>...</td>\n",
       "      <td>...</td>\n",
       "      <td>...</td>\n",
       "      <td>...</td>\n",
       "      <td>...</td>\n",
       "      <td>...</td>\n",
       "      <td>...</td>\n",
       "    </tr>\n",
       "    <tr>\n",
       "      <th>73</th>\n",
       "      <td>74</td>\n",
       "      <td>1</td>\n",
       "      <td>35</td>\n",
       "      <td>183</td>\n",
       "      <td>83</td>\n",
       "      <td>3</td>\n",
       "      <td>80.2</td>\n",
       "    </tr>\n",
       "    <tr>\n",
       "      <th>74</th>\n",
       "      <td>75</td>\n",
       "      <td>1</td>\n",
       "      <td>49</td>\n",
       "      <td>177</td>\n",
       "      <td>84</td>\n",
       "      <td>3</td>\n",
       "      <td>79.9</td>\n",
       "    </tr>\n",
       "    <tr>\n",
       "      <th>75</th>\n",
       "      <td>76</td>\n",
       "      <td>1</td>\n",
       "      <td>28</td>\n",
       "      <td>164</td>\n",
       "      <td>85</td>\n",
       "      <td>3</td>\n",
       "      <td>79.7</td>\n",
       "    </tr>\n",
       "    <tr>\n",
       "      <th>76</th>\n",
       "      <td>77</td>\n",
       "      <td>1</td>\n",
       "      <td>40</td>\n",
       "      <td>167</td>\n",
       "      <td>87</td>\n",
       "      <td>3</td>\n",
       "      <td>77.8</td>\n",
       "    </tr>\n",
       "    <tr>\n",
       "      <th>77</th>\n",
       "      <td>78</td>\n",
       "      <td>1</td>\n",
       "      <td>51</td>\n",
       "      <td>175</td>\n",
       "      <td>88</td>\n",
       "      <td>3</td>\n",
       "      <td>81.9</td>\n",
       "    </tr>\n",
       "  </tbody>\n",
       "</table>\n",
       "<p>78 rows × 7 columns</p>\n",
       "</div>"
      ],
      "text/plain": [
       "    Person gender  Age  Height  pre.weight  Diet  weight6weeks\n",
       "0       25          41     171          60     2          60.0\n",
       "1       26          32     174         103     2         103.0\n",
       "2        1      0   22     159          58     1          54.2\n",
       "3        2      0   46     192          60     1          54.0\n",
       "4        3      0   55     170          64     1          63.3\n",
       "..     ...    ...  ...     ...         ...   ...           ...\n",
       "73      74      1   35     183          83     3          80.2\n",
       "74      75      1   49     177          84     3          79.9\n",
       "75      76      1   28     164          85     3          79.7\n",
       "76      77      1   40     167          87     3          77.8\n",
       "77      78      1   51     175          88     3          81.9\n",
       "\n",
       "[78 rows x 7 columns]"
      ]
     },
     "execution_count": 2,
     "metadata": {},
     "output_type": "execute_result"
    }
   ],
   "source": [
    "df = pd.read_csv('Diet_R.csv')\n",
    "df\n"
   ]
  },
  {
   "cell_type": "code",
   "execution_count": 3,
   "id": "df60ceac",
   "metadata": {},
   "outputs": [
    {
     "data": {
      "text/html": [
       "<div>\n",
       "<style scoped>\n",
       "    .dataframe tbody tr th:only-of-type {\n",
       "        vertical-align: middle;\n",
       "    }\n",
       "\n",
       "    .dataframe tbody tr th {\n",
       "        vertical-align: top;\n",
       "    }\n",
       "\n",
       "    .dataframe thead th {\n",
       "        text-align: right;\n",
       "    }\n",
       "</style>\n",
       "<table border=\"1\" class=\"dataframe\">\n",
       "  <thead>\n",
       "    <tr style=\"text-align: right;\">\n",
       "      <th></th>\n",
       "      <th>Person</th>\n",
       "      <th>gender</th>\n",
       "      <th>Age</th>\n",
       "      <th>Height</th>\n",
       "      <th>pre.weight</th>\n",
       "      <th>weight6weeks</th>\n",
       "    </tr>\n",
       "    <tr>\n",
       "      <th>Diet</th>\n",
       "      <th></th>\n",
       "      <th></th>\n",
       "      <th></th>\n",
       "      <th></th>\n",
       "      <th></th>\n",
       "      <th></th>\n",
       "    </tr>\n",
       "  </thead>\n",
       "  <tbody>\n",
       "    <tr>\n",
       "      <th>1</th>\n",
       "      <td>24</td>\n",
       "      <td>24</td>\n",
       "      <td>24</td>\n",
       "      <td>24</td>\n",
       "      <td>24</td>\n",
       "      <td>24</td>\n",
       "    </tr>\n",
       "    <tr>\n",
       "      <th>2</th>\n",
       "      <td>27</td>\n",
       "      <td>27</td>\n",
       "      <td>27</td>\n",
       "      <td>27</td>\n",
       "      <td>27</td>\n",
       "      <td>27</td>\n",
       "    </tr>\n",
       "    <tr>\n",
       "      <th>3</th>\n",
       "      <td>27</td>\n",
       "      <td>27</td>\n",
       "      <td>27</td>\n",
       "      <td>27</td>\n",
       "      <td>27</td>\n",
       "      <td>27</td>\n",
       "    </tr>\n",
       "  </tbody>\n",
       "</table>\n",
       "</div>"
      ],
      "text/plain": [
       "      Person  gender  Age  Height  pre.weight  weight6weeks\n",
       "Diet                                                       \n",
       "1         24      24   24      24          24            24\n",
       "2         27      27   27      27          27            27\n",
       "3         27      27   27      27          27            27"
      ]
     },
     "execution_count": 3,
     "metadata": {},
     "output_type": "execute_result"
    }
   ],
   "source": [
    "df.groupby('Diet').count()"
   ]
  },
  {
   "cell_type": "markdown",
   "id": "e57e7a03",
   "metadata": {},
   "source": [
    "# t -test\n",
    "- Question 1: First, we want to know whether our sample of people lost weight after 6 weeks of whethever diet they follow. For that we need to do a t- test with the following hypothesis:\n",
    "\n",
    "H0 : µpreweight = µweight6weeks\n",
    "\n",
    "Ha : µpreweight > µweight6weeks\n",
    "\n",
    "In order to test our null hypothesis, we first need to stablish our level of confidence. In this case, I, as an analyst, choose a confidence level of 95 %, that is, I give my experiment an error level as a tolerance of 5 %."
   ]
  },
  {
   "cell_type": "markdown",
   "id": "7012ea2b",
   "metadata": {},
   "source": [
    "In order to quickly review the descriptive statistics of my control and my measurement after six weeks"
   ]
  },
  {
   "cell_type": "code",
   "execution_count": 4,
   "id": "72917137",
   "metadata": {},
   "outputs": [
    {
     "name": "stdout",
     "output_type": "stream",
     "text": [
      "count     78.000000\n",
      "mean      72.525641\n",
      "std        8.723344\n",
      "min       58.000000\n",
      "25%       66.000000\n",
      "50%       72.000000\n",
      "75%       78.000000\n",
      "max      103.000000\n",
      "Name: pre.weight, dtype: float64 count     78.000000\n",
      "mean      68.680769\n",
      "std        8.924504\n",
      "min       53.000000\n",
      "25%       61.850000\n",
      "50%       68.950000\n",
      "75%       73.825000\n",
      "max      103.000000\n",
      "Name: weight6weeks, dtype: float64\n"
     ]
    }
   ],
   "source": [
    "#Descriptive statatistics\n",
    "List_preweight= df['pre.weight']\n",
    "List_weight6weeks = df['weight6weeks']\n",
    "#print(List_preweight, List_weight6weeks)\n",
    "\n",
    "DS_preweigh = List_preweight.describe()\n",
    "DS_weight6weeks=List_weight6weeks.describe() \n",
    "\n",
    "print(DS_preweigh, DS_weight6weeks )"
   ]
  },
  {
   "cell_type": "code",
   "execution_count": 5,
   "id": "4e93e177",
   "metadata": {},
   "outputs": [
    {
     "ename": "SyntaxError",
     "evalue": "invalid syntax (3245734412.py, line 1)",
     "output_type": "error",
     "traceback": [
      "\u001b[0;36m  File \u001b[0;32m\"/tmp/ipykernel_72977/3245734412.py\"\u001b[0;36m, line \u001b[0;32m1\u001b[0m\n\u001b[0;31m    the mean Xpreweight = 72.525641 and Xweight6weeks = 68.680769\u001b[0m\n\u001b[0m        ^\u001b[0m\n\u001b[0;31mSyntaxError\u001b[0m\u001b[0;31m:\u001b[0m invalid syntax\n"
     ]
    }
   ],
   "source": [
    "the mean Xpreweight = 72.525641 and Xweight6weeks = 68.680769\n",
    "the std  Spreweight = 8.723344 and SXweight6weeks = 8.924504"
   ]
  },
  {
   "cell_type": "code",
   "execution_count": 6,
   "id": "93d9f033",
   "metadata": {},
   "outputs": [
    {
     "data": {
      "image/png": "[encoded data removed]",
      "text/plain": [
       "<Figure size 360x360 with 1 Axes>"
      ]
     },
     "metadata": {
      "needs_background": "light"
     },
     "output_type": "display_data"
    }
   ],
   "source": [
    "# Boxplots to check the weigh before and after (78 people)\n",
    "ax = df.boxplot(column=['pre.weight', 'weight6weeks'], fontsize=16, figsize=(5, 5))\n",
    "#ax.set_xlabel(\"x_label\");\n",
    "ax.set_ylabel(\"weight\", fontsize=16);\n",
    "ax = plt.savefig('boxplot-weight_lost.png')\n",
    "ax = plt.show()\n",
    "\n",
    "\n",
    "# Boxplots of my original population (78 people)\n",
    "#ax = sns.boxplot(x='Diet', y='weigh_lost', data=df, palette=\"Set2\")\n",
    "# le paramètre palette donne différents sets de couleurs\n",
    "#plt.show()\n"
   ]
  },
  {
   "cell_type": "markdown",
   "id": "a19a7830",
   "metadata": {},
   "source": [
    "At first glance, based on only the means and standard deviations, it would appear that there was a total decrease in weight in the group after six weeks of dieting. However, to apply our confidence criterion, it is necessary to do the t-test\n",
    "We test our null hypothesis by using a t-test. "
   ]
  },
  {
   "cell_type": "code",
   "execution_count": 7,
   "id": "5441489c",
   "metadata": {},
   "outputs": [
    {
     "name": "stdout",
     "output_type": "stream",
     "text": [
      "the mean Xpreweight = 72.525641 and Xweight6weeks = 68.680769\n",
      "the std  Spreweight = 8.723344 and SXweight6weeks = 8.924504\n",
      "the t value is t = 2.720973\n",
      "Prob=0.996371 and (1-Prob)=0.003629 \n",
      "According to this test, the probability of getting a difference between our sample before and after the diet is (1-Prob)=0.003629 \n"
     ]
    }
   ],
   "source": [
    "#We test our null hypothesis by using a t-test.\n",
    "#\"Probability of getting a difference between sample means is\",\n",
    "#Prob = 1 - st.t.cdf(t, ddl)) \n",
    "# to calculate t:\n",
    "\n",
    "Xpreweight= df['pre.weight'].mean()\n",
    "Xweight6weeks = df['weight6weeks'].mean()\n",
    "Spreweight= df['pre.weight'].std()\n",
    "Sweight6weeks = df['weight6weeks'].std()\n",
    "\n",
    "print(\"the mean Xpreweight = %f and Xweight6weeks = %f\" % (Xpreweight, Xweight6weeks))\n",
    "print(\"the std  Spreweight = %f and SXweight6weeks = %f\" % (Spreweight , Sweight6weeks))\n",
    "      \n",
    "n1=78\n",
    "n2=78\n",
    "dof=n1+n2-2\n",
    "ccdof= np.sqrt((1/n1) +(1/n2))\n",
    "Spooled= np.sqrt(((n1-1)*((Spreweight)**2) +(n2-1)*((Sweight6weeks)**2))/((n1+n2)-2))\n",
    "et=Spooled*ccdof\n",
    "\n",
    "t = (Xpreweight - Xweight6weeks)/et\n",
    "print (\"the t value is t = %f\" % t)\n",
    "\n",
    "#since the total degrees of freedom are dof=(n1+n2)-2.  \n",
    "\n",
    "Prob_gauche=st.t.cdf(t,dof )\n",
    "\n",
    "Prob_droit=1-Prob_gauche\n",
    "\n",
    "print(\"Prob=%f and (1-Prob)=%f \"% (Prob_gauche, Prob_droit))   \n",
    "\n",
    "print(\"According to this test, the probability of getting a difference between our sample before and after the diet is (1-Prob)=0.003629 \")"
   ]
  },
  {
   "cell_type": "code",
   "execution_count": 8,
   "id": "a18bf8e2",
   "metadata": {},
   "outputs": [
    {
     "data": {
      "text/plain": [
       "0.007258"
      ]
     },
     "execution_count": 8,
     "metadata": {},
     "output_type": "execute_result"
    }
   ],
   "source": [
    "0.003629*2"
   ]
  },
  {
   "cell_type": "code",
   "execution_count": 9,
   "id": "1935dde4",
   "metadata": {},
   "outputs": [
    {
     "name": "stdout",
     "output_type": "stream",
     "text": [
      "2.720972750635475 0.0036292068344625558\n",
      "2.720972750635475 0.9963707931655374\n"
     ]
    }
   ],
   "source": [
    "#statistic_two-sided, pvalue_two-sided = st.ttest_ind(df['pre.weight'], df['weight6weeks'], alternative='two-sided')\n",
    "statistic_greater, pvalue_greater= st.ttest_ind(df['pre.weight'], df['weight6weeks'], alternative = 'greater')\n",
    "statistic_less, pvalue_less = st.ttest_ind(df['pre.weight'], df['weight6weeks'], alternative = 'less')\n",
    "\n",
    "print(statistic_greater, pvalue_greater)\n",
    "print(statistic_less, pvalue_less)"
   ]
  },
  {
   "cell_type": "code",
   "execution_count": 10,
   "id": "1ad15dcd",
   "metadata": {},
   "outputs": [
    {
     "data": {
      "text/plain": [
       "Ttest_indResult(statistic=2.720972750635475, pvalue=0.0072584136689251115)"
      ]
     },
     "metadata": {},
     "output_type": "display_data"
    }
   ],
   "source": [
    "display(st.ttest_ind(df['pre.weight'], df['weight6weeks'], alternative='two-sided'))\n"
   ]
  },
  {
   "cell_type": "code",
   "execution_count": 11,
   "id": "2328b0df",
   "metadata": {},
   "outputs": [
    {
     "data": {
      "text/plain": [
       "0.0036292068344625505"
      ]
     },
     "execution_count": 11,
     "metadata": {},
     "output_type": "execute_result"
    }
   ],
   "source": [
    "1-0.9963707931655374"
   ]
  },
  {
   "cell_type": "markdown",
   "id": "e4fb1f5f",
   "metadata": {},
   "source": [
    "Therefore, according with this t-test and our stablished threshold for a confidence level of 95%, we can reject the H0. Considering only the probability for one side of the curve (the positive side) which stablishes the probability (1-Prob = 0.00363) of having a population with a weight larger than the mean, we can asssume the alternative Ha as valid. "
   ]
  },
  {
   "cell_type": "markdown",
   "id": "c23cef81",
   "metadata": {},
   "source": [
    "# ANOVA\n",
    "Question 2: We want to know whether the type of diet (3 qualitative variables) has an influence on the lost of weigh (after 6 weeks). ANOVA"
   ]
  },
  {
   "cell_type": "code",
   "execution_count": 12,
   "id": "7f63ac92",
   "metadata": {},
   "outputs": [
    {
     "data": {
      "text/html": [
       "<div>\n",
       "<style scoped>\n",
       "    .dataframe tbody tr th:only-of-type {\n",
       "        vertical-align: middle;\n",
       "    }\n",
       "\n",
       "    .dataframe tbody tr th {\n",
       "        vertical-align: top;\n",
       "    }\n",
       "\n",
       "    .dataframe thead th {\n",
       "        text-align: right;\n",
       "    }\n",
       "</style>\n",
       "<table border=\"1\" class=\"dataframe\">\n",
       "  <thead>\n",
       "    <tr style=\"text-align: right;\">\n",
       "      <th></th>\n",
       "      <th>Person</th>\n",
       "      <th>gender</th>\n",
       "      <th>Age</th>\n",
       "      <th>Height</th>\n",
       "      <th>pre.weight</th>\n",
       "      <th>weight6weeks</th>\n",
       "    </tr>\n",
       "    <tr>\n",
       "      <th>Diet</th>\n",
       "      <th></th>\n",
       "      <th></th>\n",
       "      <th></th>\n",
       "      <th></th>\n",
       "      <th></th>\n",
       "      <th></th>\n",
       "    </tr>\n",
       "  </thead>\n",
       "  <tbody>\n",
       "    <tr>\n",
       "      <th>1</th>\n",
       "      <td>24</td>\n",
       "      <td>24</td>\n",
       "      <td>24</td>\n",
       "      <td>24</td>\n",
       "      <td>24</td>\n",
       "      <td>24</td>\n",
       "    </tr>\n",
       "    <tr>\n",
       "      <th>2</th>\n",
       "      <td>27</td>\n",
       "      <td>27</td>\n",
       "      <td>27</td>\n",
       "      <td>27</td>\n",
       "      <td>27</td>\n",
       "      <td>27</td>\n",
       "    </tr>\n",
       "    <tr>\n",
       "      <th>3</th>\n",
       "      <td>27</td>\n",
       "      <td>27</td>\n",
       "      <td>27</td>\n",
       "      <td>27</td>\n",
       "      <td>27</td>\n",
       "      <td>27</td>\n",
       "    </tr>\n",
       "  </tbody>\n",
       "</table>\n",
       "</div>"
      ],
      "text/plain": [
       "      Person  gender  Age  Height  pre.weight  weight6weeks\n",
       "Diet                                                       \n",
       "1         24      24   24      24          24            24\n",
       "2         27      27   27      27          27            27\n",
       "3         27      27   27      27          27            27"
      ]
     },
     "execution_count": 12,
     "metadata": {},
     "output_type": "execute_result"
    }
   ],
   "source": [
    "df.groupby('Diet').count()"
   ]
  },
  {
   "cell_type": "markdown",
   "id": "c5f2d395",
   "metadata": {},
   "source": [
    "We are going to use an ANOVA to test our hypothesis, since we want to meassure the impact of different modalities (three different diets) have an effect one quantity (weigh lost). However, in order to use ANOVA, we need the degrees of freedom for each of the stimated variances (i.e. within each of the groups to be equal). Since we have 24 people in the first group (following Diet 1), we need to re-sample to ghave our three groups with equal degrees of freedom. "
   ]
  },
  {
   "cell_type": "code",
   "execution_count": 13,
   "id": "14b5ac54",
   "metadata": {},
   "outputs": [
    {
     "data": {
      "text/plain": [
       "(48, 7)"
      ]
     },
     "metadata": {},
     "output_type": "display_data"
    },
    {
     "data": {
      "text/html": [
       "<div>\n",
       "<style scoped>\n",
       "    .dataframe tbody tr th:only-of-type {\n",
       "        vertical-align: middle;\n",
       "    }\n",
       "\n",
       "    .dataframe tbody tr th {\n",
       "        vertical-align: top;\n",
       "    }\n",
       "\n",
       "    .dataframe thead th {\n",
       "        text-align: right;\n",
       "    }\n",
       "</style>\n",
       "<table border=\"1\" class=\"dataframe\">\n",
       "  <thead>\n",
       "    <tr style=\"text-align: right;\">\n",
       "      <th></th>\n",
       "      <th>Person</th>\n",
       "      <th>gender</th>\n",
       "      <th>Age</th>\n",
       "      <th>Height</th>\n",
       "      <th>pre.weight</th>\n",
       "      <th>Diet</th>\n",
       "      <th>weight6weeks</th>\n",
       "    </tr>\n",
       "  </thead>\n",
       "  <tbody>\n",
       "    <tr>\n",
       "      <th>53</th>\n",
       "      <td>23</td>\n",
       "      <td>1</td>\n",
       "      <td>39</td>\n",
       "      <td>166</td>\n",
       "      <td>87</td>\n",
       "      <td>1</td>\n",
       "      <td>81.9</td>\n",
       "    </tr>\n",
       "    <tr>\n",
       "      <th>52</th>\n",
       "      <td>22</td>\n",
       "      <td>1</td>\n",
       "      <td>42</td>\n",
       "      <td>166</td>\n",
       "      <td>85</td>\n",
       "      <td>1</td>\n",
       "      <td>81.5</td>\n",
       "    </tr>\n",
       "    <tr>\n",
       "      <th>2</th>\n",
       "      <td>1</td>\n",
       "      <td>0</td>\n",
       "      <td>22</td>\n",
       "      <td>159</td>\n",
       "      <td>58</td>\n",
       "      <td>1</td>\n",
       "      <td>54.2</td>\n",
       "    </tr>\n",
       "    <tr>\n",
       "      <th>5</th>\n",
       "      <td>4</td>\n",
       "      <td>0</td>\n",
       "      <td>33</td>\n",
       "      <td>171</td>\n",
       "      <td>64</td>\n",
       "      <td>1</td>\n",
       "      <td>61.1</td>\n",
       "    </tr>\n",
       "    <tr>\n",
       "      <th>14</th>\n",
       "      <td>13</td>\n",
       "      <td>0</td>\n",
       "      <td>41</td>\n",
       "      <td>163</td>\n",
       "      <td>72</td>\n",
       "      <td>1</td>\n",
       "      <td>68.4</td>\n",
       "    </tr>\n",
       "  </tbody>\n",
       "</table>\n",
       "</div>"
      ],
      "text/plain": [
       "    Person gender  Age  Height  pre.weight  Diet  weight6weeks\n",
       "53      23      1   39     166          87     1          81.9\n",
       "52      22      1   42     166          85     1          81.5\n",
       "2        1      0   22     159          58     1          54.2\n",
       "5        4      0   33     171          64     1          61.1\n",
       "14      13      0   41     163          72     1          68.4"
      ]
     },
     "metadata": {},
     "output_type": "display_data"
    }
   ],
   "source": [
    "#To do this resampling, I am going to take 16  people out of the three different groups\n",
    "sampled = df.groupby(\"Diet\").sample(n=16, random_state = 4) # random_stat selectionne une seed\n",
    "#sampled\n",
    "display(sampled.shape, sampled.head())"
   ]
  },
  {
   "cell_type": "code",
   "execution_count": 14,
   "id": "4178a9d7",
   "metadata": {},
   "outputs": [
    {
     "data": {
      "text/html": [
       "<div>\n",
       "<style scoped>\n",
       "    .dataframe tbody tr th:only-of-type {\n",
       "        vertical-align: middle;\n",
       "    }\n",
       "\n",
       "    .dataframe tbody tr th {\n",
       "        vertical-align: top;\n",
       "    }\n",
       "\n",
       "    .dataframe thead th {\n",
       "        text-align: right;\n",
       "    }\n",
       "</style>\n",
       "<table border=\"1\" class=\"dataframe\">\n",
       "  <thead>\n",
       "    <tr style=\"text-align: right;\">\n",
       "      <th></th>\n",
       "      <th>Person</th>\n",
       "      <th>gender</th>\n",
       "      <th>Age</th>\n",
       "      <th>Height</th>\n",
       "      <th>pre.weight</th>\n",
       "      <th>weight6weeks</th>\n",
       "    </tr>\n",
       "    <tr>\n",
       "      <th>Diet</th>\n",
       "      <th></th>\n",
       "      <th></th>\n",
       "      <th></th>\n",
       "      <th></th>\n",
       "      <th></th>\n",
       "      <th></th>\n",
       "    </tr>\n",
       "  </thead>\n",
       "  <tbody>\n",
       "    <tr>\n",
       "      <th>1</th>\n",
       "      <td>16</td>\n",
       "      <td>16</td>\n",
       "      <td>16</td>\n",
       "      <td>16</td>\n",
       "      <td>16</td>\n",
       "      <td>16</td>\n",
       "    </tr>\n",
       "    <tr>\n",
       "      <th>2</th>\n",
       "      <td>16</td>\n",
       "      <td>16</td>\n",
       "      <td>16</td>\n",
       "      <td>16</td>\n",
       "      <td>16</td>\n",
       "      <td>16</td>\n",
       "    </tr>\n",
       "    <tr>\n",
       "      <th>3</th>\n",
       "      <td>16</td>\n",
       "      <td>16</td>\n",
       "      <td>16</td>\n",
       "      <td>16</td>\n",
       "      <td>16</td>\n",
       "      <td>16</td>\n",
       "    </tr>\n",
       "  </tbody>\n",
       "</table>\n",
       "</div>"
      ],
      "text/plain": [
       "      Person  gender  Age  Height  pre.weight  weight6weeks\n",
       "Diet                                                       \n",
       "1         16      16   16      16          16            16\n",
       "2         16      16   16      16          16            16\n",
       "3         16      16   16      16          16            16"
      ]
     },
     "execution_count": 14,
     "metadata": {},
     "output_type": "execute_result"
    }
   ],
   "source": [
    "sampled.groupby('Diet').count()"
   ]
  },
  {
   "cell_type": "markdown",
   "id": "673a97f0",
   "metadata": {},
   "source": [
    "- Therefore, my hypothesis are that within this new sample of 16 peaple in each group:\n",
    "\n",
    "H0: σ2_D1 = σ2_D2 = σ2_D3 \n",
    "\n",
    "Ha: at least one of the σ2 is different "
   ]
  },
  {
   "cell_type": "code",
   "execution_count": 15,
   "id": "a97c89dd",
   "metadata": {},
   "outputs": [
    {
     "data": {
      "text/plain": [
       "(78, 8)"
      ]
     },
     "metadata": {},
     "output_type": "display_data"
    },
    {
     "data": {
      "text/html": [
       "<div>\n",
       "<style scoped>\n",
       "    .dataframe tbody tr th:only-of-type {\n",
       "        vertical-align: middle;\n",
       "    }\n",
       "\n",
       "    .dataframe tbody tr th {\n",
       "        vertical-align: top;\n",
       "    }\n",
       "\n",
       "    .dataframe thead th {\n",
       "        text-align: right;\n",
       "    }\n",
       "</style>\n",
       "<table border=\"1\" class=\"dataframe\">\n",
       "  <thead>\n",
       "    <tr style=\"text-align: right;\">\n",
       "      <th></th>\n",
       "      <th>Person</th>\n",
       "      <th>gender</th>\n",
       "      <th>Age</th>\n",
       "      <th>Height</th>\n",
       "      <th>pre.weight</th>\n",
       "      <th>Diet</th>\n",
       "      <th>weight6weeks</th>\n",
       "      <th>weigh_lost</th>\n",
       "    </tr>\n",
       "  </thead>\n",
       "  <tbody>\n",
       "    <tr>\n",
       "      <th>0</th>\n",
       "      <td>25</td>\n",
       "      <td></td>\n",
       "      <td>41</td>\n",
       "      <td>171</td>\n",
       "      <td>60</td>\n",
       "      <td>2</td>\n",
       "      <td>60.0</td>\n",
       "      <td>0.0</td>\n",
       "    </tr>\n",
       "    <tr>\n",
       "      <th>1</th>\n",
       "      <td>26</td>\n",
       "      <td></td>\n",
       "      <td>32</td>\n",
       "      <td>174</td>\n",
       "      <td>103</td>\n",
       "      <td>2</td>\n",
       "      <td>103.0</td>\n",
       "      <td>0.0</td>\n",
       "    </tr>\n",
       "    <tr>\n",
       "      <th>2</th>\n",
       "      <td>1</td>\n",
       "      <td>0</td>\n",
       "      <td>22</td>\n",
       "      <td>159</td>\n",
       "      <td>58</td>\n",
       "      <td>1</td>\n",
       "      <td>54.2</td>\n",
       "      <td>3.8</td>\n",
       "    </tr>\n",
       "    <tr>\n",
       "      <th>3</th>\n",
       "      <td>2</td>\n",
       "      <td>0</td>\n",
       "      <td>46</td>\n",
       "      <td>192</td>\n",
       "      <td>60</td>\n",
       "      <td>1</td>\n",
       "      <td>54.0</td>\n",
       "      <td>6.0</td>\n",
       "    </tr>\n",
       "    <tr>\n",
       "      <th>4</th>\n",
       "      <td>3</td>\n",
       "      <td>0</td>\n",
       "      <td>55</td>\n",
       "      <td>170</td>\n",
       "      <td>64</td>\n",
       "      <td>1</td>\n",
       "      <td>63.3</td>\n",
       "      <td>0.7</td>\n",
       "    </tr>\n",
       "  </tbody>\n",
       "</table>\n",
       "</div>"
      ],
      "text/plain": [
       "   Person gender  Age  Height  pre.weight  Diet  weight6weeks  weigh_lost\n",
       "0      25          41     171          60     2          60.0         0.0\n",
       "1      26          32     174         103     2         103.0         0.0\n",
       "2       1      0   22     159          58     1          54.2         3.8\n",
       "3       2      0   46     192          60     1          54.0         6.0\n",
       "4       3      0   55     170          64     1          63.3         0.7"
      ]
     },
     "metadata": {},
     "output_type": "display_data"
    }
   ],
   "source": [
    "# To analyse the type of diets wrt the lost of weigh, \n",
    "#first we need to create a new column that contains the difference \n",
    "# between the weigh before and after : \n",
    "#Therefore, the difference between the weigh before and after will be given by: \n",
    "\n",
    "df['weigh_lost'] = df['pre.weight'].sub(df['weight6weeks'], axis = 0)\n",
    "display(df.shape, df.head())"
   ]
  },
  {
   "cell_type": "code",
   "execution_count": 16,
   "id": "444ff373",
   "metadata": {},
   "outputs": [
    {
     "data": {
      "text/html": [
       "<div>\n",
       "<style scoped>\n",
       "    .dataframe tbody tr th:only-of-type {\n",
       "        vertical-align: middle;\n",
       "    }\n",
       "\n",
       "    .dataframe tbody tr th {\n",
       "        vertical-align: top;\n",
       "    }\n",
       "\n",
       "    .dataframe thead tr th {\n",
       "        text-align: left;\n",
       "    }\n",
       "</style>\n",
       "<table border=\"1\" class=\"dataframe\">\n",
       "  <thead>\n",
       "    <tr>\n",
       "      <th></th>\n",
       "      <th></th>\n",
       "      <th colspan=\"3\" halign=\"left\">weigh_lost</th>\n",
       "    </tr>\n",
       "    <tr>\n",
       "      <th></th>\n",
       "      <th>Diet</th>\n",
       "      <th>mean</th>\n",
       "      <th>std</th>\n",
       "      <th>count</th>\n",
       "    </tr>\n",
       "  </thead>\n",
       "  <tbody>\n",
       "    <tr>\n",
       "      <th>0</th>\n",
       "      <td>1</td>\n",
       "      <td>3.300000</td>\n",
       "      <td>2.240148</td>\n",
       "      <td>24</td>\n",
       "    </tr>\n",
       "    <tr>\n",
       "      <th>1</th>\n",
       "      <td>2</td>\n",
       "      <td>3.025926</td>\n",
       "      <td>2.523367</td>\n",
       "      <td>27</td>\n",
       "    </tr>\n",
       "    <tr>\n",
       "      <th>2</th>\n",
       "      <td>3</td>\n",
       "      <td>5.148148</td>\n",
       "      <td>2.395568</td>\n",
       "      <td>27</td>\n",
       "    </tr>\n",
       "  </tbody>\n",
       "</table>\n",
       "</div>"
      ],
      "text/plain": [
       "       weigh_lost                \n",
       "  Diet       mean       std count\n",
       "0    1   3.300000  2.240148    24\n",
       "1    2   3.025926  2.523367    27\n",
       "2    3   5.148148  2.395568    27"
      ]
     },
     "execution_count": 16,
     "metadata": {},
     "output_type": "execute_result"
    }
   ],
   "source": [
    "stats = df[['Diet','weigh_lost']].groupby('Diet')\\\n",
    "    .agg({'weigh_lost': ['mean','std','count']})\\\n",
    "    .reset_index(col_level=1)\n",
    "stats"
   ]
  },
  {
   "cell_type": "code",
   "execution_count": 17,
   "id": "6b229f61",
   "metadata": {},
   "outputs": [
    {
     "data": {
      "image/png": "[encoded data removed]",
      "text/plain": [
       "<Figure size 432x288 with 1 Axes>"
      ]
     },
     "metadata": {
      "needs_background": "light"
     },
     "output_type": "display_data"
    }
   ],
   "source": [
    "# Boxplots of my original population (78 people)\n",
    "ax = sns.boxplot(x='Diet', y='weigh_lost', data=df, palette=\"Set2\")\n",
    "# le paramètre palette donne différents sets de couleurs\n",
    "plt.show()"
   ]
  },
  {
   "cell_type": "code",
   "execution_count": 18,
   "id": "9d6bbb83",
   "metadata": {},
   "outputs": [
    {
     "data": {
      "text/plain": [
       "(48, 8)"
      ]
     },
     "metadata": {},
     "output_type": "display_data"
    },
    {
     "data": {
      "text/html": [
       "<div>\n",
       "<style scoped>\n",
       "    .dataframe tbody tr th:only-of-type {\n",
       "        vertical-align: middle;\n",
       "    }\n",
       "\n",
       "    .dataframe tbody tr th {\n",
       "        vertical-align: top;\n",
       "    }\n",
       "\n",
       "    .dataframe thead th {\n",
       "        text-align: right;\n",
       "    }\n",
       "</style>\n",
       "<table border=\"1\" class=\"dataframe\">\n",
       "  <thead>\n",
       "    <tr style=\"text-align: right;\">\n",
       "      <th></th>\n",
       "      <th>Person</th>\n",
       "      <th>gender</th>\n",
       "      <th>Age</th>\n",
       "      <th>Height</th>\n",
       "      <th>pre.weight</th>\n",
       "      <th>Diet</th>\n",
       "      <th>weight6weeks</th>\n",
       "      <th>weigh_lost</th>\n",
       "    </tr>\n",
       "  </thead>\n",
       "  <tbody>\n",
       "    <tr>\n",
       "      <th>53</th>\n",
       "      <td>23</td>\n",
       "      <td>1</td>\n",
       "      <td>39</td>\n",
       "      <td>166</td>\n",
       "      <td>87</td>\n",
       "      <td>1</td>\n",
       "      <td>81.9</td>\n",
       "      <td>5.1</td>\n",
       "    </tr>\n",
       "    <tr>\n",
       "      <th>52</th>\n",
       "      <td>22</td>\n",
       "      <td>1</td>\n",
       "      <td>42</td>\n",
       "      <td>166</td>\n",
       "      <td>85</td>\n",
       "      <td>1</td>\n",
       "      <td>81.5</td>\n",
       "      <td>3.5</td>\n",
       "    </tr>\n",
       "    <tr>\n",
       "      <th>2</th>\n",
       "      <td>1</td>\n",
       "      <td>0</td>\n",
       "      <td>22</td>\n",
       "      <td>159</td>\n",
       "      <td>58</td>\n",
       "      <td>1</td>\n",
       "      <td>54.2</td>\n",
       "      <td>3.8</td>\n",
       "    </tr>\n",
       "    <tr>\n",
       "      <th>5</th>\n",
       "      <td>4</td>\n",
       "      <td>0</td>\n",
       "      <td>33</td>\n",
       "      <td>171</td>\n",
       "      <td>64</td>\n",
       "      <td>1</td>\n",
       "      <td>61.1</td>\n",
       "      <td>2.9</td>\n",
       "    </tr>\n",
       "    <tr>\n",
       "      <th>14</th>\n",
       "      <td>13</td>\n",
       "      <td>0</td>\n",
       "      <td>41</td>\n",
       "      <td>163</td>\n",
       "      <td>72</td>\n",
       "      <td>1</td>\n",
       "      <td>68.4</td>\n",
       "      <td>3.6</td>\n",
       "    </tr>\n",
       "  </tbody>\n",
       "</table>\n",
       "</div>"
      ],
      "text/plain": [
       "    Person gender  Age  Height  pre.weight  Diet  weight6weeks  weigh_lost\n",
       "53      23      1   39     166          87     1          81.9         5.1\n",
       "52      22      1   42     166          85     1          81.5         3.5\n",
       "2        1      0   22     159          58     1          54.2         3.8\n",
       "5        4      0   33     171          64     1          61.1         2.9\n",
       "14      13      0   41     163          72     1          68.4         3.6"
      ]
     },
     "metadata": {},
     "output_type": "display_data"
    }
   ],
   "source": [
    "# To analyse the type of diets wrt the lost of weigh, \n",
    "#first we need to create a new column that contains the difference \n",
    "# between the weigh before and after : \n",
    "#Therefore, the difference between the weigh before and after will be given by: \n",
    "\n",
    "sampled['weigh_lost'] = sampled['pre.weight'].sub(sampled['weight6weeks'], axis = 0)\n",
    "display(sampled.shape, sampled.head())"
   ]
  },
  {
   "cell_type": "code",
   "execution_count": 19,
   "id": "4b5ad33f",
   "metadata": {},
   "outputs": [
    {
     "data": {
      "text/html": [
       "<div>\n",
       "<style scoped>\n",
       "    .dataframe tbody tr th:only-of-type {\n",
       "        vertical-align: middle;\n",
       "    }\n",
       "\n",
       "    .dataframe tbody tr th {\n",
       "        vertical-align: top;\n",
       "    }\n",
       "\n",
       "    .dataframe thead tr th {\n",
       "        text-align: left;\n",
       "    }\n",
       "</style>\n",
       "<table border=\"1\" class=\"dataframe\">\n",
       "  <thead>\n",
       "    <tr>\n",
       "      <th></th>\n",
       "      <th></th>\n",
       "      <th colspan=\"3\" halign=\"left\">weigh_lost</th>\n",
       "    </tr>\n",
       "    <tr>\n",
       "      <th></th>\n",
       "      <th>Diet</th>\n",
       "      <th>mean</th>\n",
       "      <th>std</th>\n",
       "      <th>count</th>\n",
       "    </tr>\n",
       "  </thead>\n",
       "  <tbody>\n",
       "    <tr>\n",
       "      <th>0</th>\n",
       "      <td>1</td>\n",
       "      <td>2.83750</td>\n",
       "      <td>1.314471</td>\n",
       "      <td>16</td>\n",
       "    </tr>\n",
       "    <tr>\n",
       "      <th>1</th>\n",
       "      <td>2</td>\n",
       "      <td>3.38125</td>\n",
       "      <td>2.294695</td>\n",
       "      <td>16</td>\n",
       "    </tr>\n",
       "    <tr>\n",
       "      <th>2</th>\n",
       "      <td>3</td>\n",
       "      <td>4.96875</td>\n",
       "      <td>2.071624</td>\n",
       "      <td>16</td>\n",
       "    </tr>\n",
       "  </tbody>\n",
       "</table>\n",
       "</div>"
      ],
      "text/plain": [
       "       weigh_lost                \n",
       "  Diet       mean       std count\n",
       "0    1    2.83750  1.314471    16\n",
       "1    2    3.38125  2.294695    16\n",
       "2    3    4.96875  2.071624    16"
      ]
     },
     "execution_count": 19,
     "metadata": {},
     "output_type": "execute_result"
    }
   ],
   "source": [
    "stats_sampled= sampled[['Diet','weigh_lost']].groupby('Diet')\\\n",
    "    .agg({'weigh_lost': ['mean','std','count']})\\\n",
    "    .reset_index(col_level=1)\n",
    "stats_sampled"
   ]
  },
  {
   "cell_type": "code",
   "execution_count": 20,
   "id": "ce721ba6",
   "metadata": {},
   "outputs": [
    {
     "data": {
      "image/png": "[encoded data removed]",
      "text/plain": [
       "<Figure size 432x288 with 1 Axes>"
      ]
     },
     "metadata": {
      "needs_background": "light"
     },
     "output_type": "display_data"
    }
   ],
   "source": [
    "# Boxplots of my three samples consisting of 16 people each:\n",
    "ax = sns.boxplot(x='Diet', y='weigh_lost', data=sampled, palette=\"Set2\")\n",
    "# le paramètre palette donne différents sets de couleurs\n",
    "plt.show()"
   ]
  },
  {
   "cell_type": "code",
   "execution_count": 21,
   "id": "0ff5b0a9",
   "metadata": {},
   "outputs": [],
   "source": [
    "Diet_1 = sampled[sampled['Diet']== 1]['weigh_lost']\n",
    "Diet_2 = sampled[sampled['Diet']== 2]['weigh_lost']\n",
    "Diet_3 = sampled[sampled['Diet']== 3]['weigh_lost']\n",
    "\n",
    "#print(np.array(Diet_3))\n"
   ]
  },
  {
   "cell_type": "code",
   "execution_count": 22,
   "id": "e5d37f8c",
   "metadata": {},
   "outputs": [
    {
     "name": "stdout",
     "output_type": "stream",
     "text": [
      "[7.  5.6 3.4 6.8 7.8 5.4 6.8 7.2 7.  7.3 0.9 7.6 4.1 6.3 5.  2.5 0.9 3.5\n",
      " 0.5 2.8 8.6 4.5 2.8 4.1 5.3 9.2 6.1]\n"
     ]
    }
   ],
   "source": [
    "D1 = df[df['Diet']== 1]['weigh_lost']\n",
    "D2 = df[df['Diet']== 2]['weigh_lost']\n",
    "D3 = df[df['Diet']== 3]['weigh_lost']\n",
    "\n",
    "print(np.array(D3))\n"
   ]
  },
  {
   "cell_type": "markdown",
   "id": "fb99c311",
   "metadata": {},
   "source": [
    "The one-way ANOVA tests the null hypothesis that two or more groups have the same population mean. The test is applied to samples from two or more groups, possibly with differing sizes."
   ]
  },
  {
   "cell_type": "code",
   "execution_count": 23,
   "id": "8aa9936a",
   "metadata": {},
   "outputs": [
    {
     "name": "stdout",
     "output_type": "stream",
     "text": [
      "The F and p values are F=5.2161223149 , pvalue =0.009175423087\n"
     ]
    }
   ],
   "source": [
    "#To calculate of values F and p, we can use the df arrays from our sampled:  \n",
    "F, p = st.f_oneway(Diet_1, Diet_2, Diet_3)\n",
    "print(\"The F and p values are F=%.10f , pvalue =%.12f\" % (F, p))"
   ]
  },
  {
   "cell_type": "markdown",
   "id": "22844822",
   "metadata": {},
   "source": [
    "The pvalue of 0.009175423087 (0.92 %), implies that, again with a level of confidence of 95%, we can not reject our H0 that states that al the variances are equal ( σ2_D1 = σ2_D2 = σ2_D3), when taking a sample of 16 people in each group. "
   ]
  },
  {
   "cell_type": "code",
   "execution_count": 70,
   "id": "4614836e",
   "metadata": {},
   "outputs": [
    {
     "name": "stdout",
     "output_type": "stream",
     "text": [
      "The F and p values are F=6.1974474532 , pvalue =0.003229014239\n"
     ]
    }
   ],
   "source": [
    "#To calculate of values F and p, we can use the original dataframe arrays:  #\n",
    "F, p = st.f_oneway(D1, D2, D3)\n",
    "print(\"The F and p values are F=%.10f , pvalue =%.12f\" % (F, p))"
   ]
  },
  {
   "cell_type": "code",
   "execution_count": 71,
   "id": "2fcb48ef",
   "metadata": {},
   "outputs": [
    {
     "data": {
      "text/html": [
       "<div>\n",
       "<style scoped>\n",
       "    .dataframe tbody tr th:only-of-type {\n",
       "        vertical-align: middle;\n",
       "    }\n",
       "\n",
       "    .dataframe tbody tr th {\n",
       "        vertical-align: top;\n",
       "    }\n",
       "\n",
       "    .dataframe thead th {\n",
       "        text-align: right;\n",
       "    }\n",
       "</style>\n",
       "<table border=\"1\" class=\"dataframe\">\n",
       "  <thead>\n",
       "    <tr style=\"text-align: right;\">\n",
       "      <th></th>\n",
       "      <th>sum_sq</th>\n",
       "      <th>df</th>\n",
       "      <th>F</th>\n",
       "      <th>PR(&gt;F)</th>\n",
       "    </tr>\n",
       "  </thead>\n",
       "  <tbody>\n",
       "    <tr>\n",
       "      <th>C(Diet)</th>\n",
       "      <td>39.242917</td>\n",
       "      <td>2.0</td>\n",
       "      <td>5.216122</td>\n",
       "      <td>0.009175</td>\n",
       "    </tr>\n",
       "    <tr>\n",
       "      <th>Residual</th>\n",
       "      <td>169.276250</td>\n",
       "      <td>45.0</td>\n",
       "      <td>NaN</td>\n",
       "      <td>NaN</td>\n",
       "    </tr>\n",
       "  </tbody>\n",
       "</table>\n",
       "</div>"
      ],
      "text/plain": [
       "              sum_sq    df         F    PR(>F)\n",
       "C(Diet)    39.242917   2.0  5.216122  0.009175\n",
       "Residual  169.276250  45.0       NaN       NaN"
      ]
     },
     "metadata": {},
     "output_type": "display_data"
    },
    {
     "name": "stdout",
     "output_type": "stream",
     "text": [
      "                            OLS Regression Results                            \n",
      "==============================================================================\n",
      "Dep. Variable:             weigh_lost   R-squared:                       0.188\n",
      "Model:                            OLS   Adj. R-squared:                  0.152\n",
      "Method:                 Least Squares   F-statistic:                     5.216\n",
      "Date:                Thu, 02 Dec 2021   Prob (F-statistic):            0.00918\n",
      "Time:                        02:04:33   Log-Likelihood:                -98.357\n",
      "No. Observations:                  48   AIC:                             202.7\n",
      "Df Residuals:                      45   BIC:                             208.3\n",
      "Df Model:                           2                                         \n",
      "Covariance Type:            nonrobust                                         \n",
      "================================================================================\n",
      "                   coef    std err          t      P>|t|      [0.025      0.975]\n",
      "--------------------------------------------------------------------------------\n",
      "Intercept        2.8375      0.485      5.852      0.000       1.861       3.814\n",
      "C(Diet)[T.2]     0.5438      0.686      0.793      0.432      -0.837       1.925\n",
      "C(Diet)[T.3]     2.1312      0.686      3.108      0.003       0.750       3.512\n",
      "==============================================================================\n",
      "Omnibus:                        0.043   Durbin-Watson:                   1.695\n",
      "Prob(Omnibus):                  0.979   Jarque-Bera (JB):                0.187\n",
      "Skew:                          -0.061   Prob(JB):                        0.911\n",
      "Kurtosis:                       2.719   Cond. No.                         3.73\n",
      "==============================================================================\n",
      "\n",
      "Notes:\n",
      "[1] Standard Errors assume that the covariance matrix of the errors is correctly specified.\n"
     ]
    }
   ],
   "source": [
    "# OLS Méthode qui utilise explicitement un modèle de régression, permet d'avoir les paramètres de l'ANOVA \n",
    "\n",
    "import statsmodels.api as sm\n",
    "from statsmodels.formula.api import ols\n",
    "\n",
    "model = ols('weigh_lost ~ C(Diet)', data=sampled).fit()\n",
    "anova_table = sm.stats.anova_lm(model, typ=2)\n",
    "# typ est le type d'anova test à réaliser, le 1 est apparement peu utilisé, le 2 est le plus commun, utilisé lorsque\n",
    "# qu'il n'y a pas d'interactions entre nos modalités (tirages indépendants)\n",
    "anova_table\n",
    "display(anova_table)\n",
    "\n",
    "print(model.summary())\n",
    "\n"
   ]
  },
  {
   "cell_type": "markdown",
   "id": "a8a6b4c0",
   "metadata": {},
   "source": [
    "# COCHRAN TEST"
   ]
  },
  {
   "cell_type": "markdown",
   "id": "b911b4e1",
   "metadata": {},
   "source": [
    "The idea is to calculate our variances for each of the groups ( for each type of diet), and compare the one with a maximum value (amongh them) with respect to the sum of the \n",
    "variances, to see whether this observed value, called the gobs, falls into the non-rectection zone with a level of 95% of confidence, given the F value obtained avobe.  \n"
   ]
  },
  {
   "cell_type": "code",
   "execution_count": 68,
   "id": "e1d68412",
   "metadata": {},
   "outputs": [
    {
     "name": "stdout",
     "output_type": "stream",
     "text": [
      "Var_D1=1.496712, Var_D2=1.588511, Var_D3=1.547762\n",
      "the sum of variances (Var_D1 + Var_D2 + Var_D3) = 4.632985323131\n",
      "the value of gobs = 0.342869812061\n"
     ]
    }
   ],
   "source": [
    "std_D1 = df[df['Diet']== 1]['weigh_lost'].std()\n",
    "std_D2 = df[df['Diet']== 2]['weigh_lost'].std()\n",
    "std_D3 = df[df['Diet']== 3]['weigh_lost'].std()\n",
    "\n",
    "Var_D1=np.sqrt(std_D1)\n",
    "Var_D2=np.sqrt(std_D2)\n",
    "Var_D3=np.sqrt(std_D3)\n",
    "print((\"Var_D1=%f, Var_D2=%f, Var_D3=%f\" )%(Var_D1, Var_D2, Var_D3))\n",
    "\n",
    "Variances=[Var_D1, Var_D2, Var_D3]\n",
    "\n",
    "Sum_Variances = np.sum(Variances)\n",
    "max_Variance =max(Variances)\n",
    "\n",
    "print((\"the sum of variances (Var_D1 + Var_D2 + Var_D3) = %.12f\") % (Sum_Variances))\n",
    "\n",
    "gobs= (max_Variance/Sum_Variances)\n",
    "print((\"the value of gobs = %.12f\") % (gobs))\n",
    "\n",
    "# Given that the number of variables I have is 3 (three different types of diet) \n",
    "#the theorethical gvalue at 95% confidence  for the 3 variances (k)  of normal populations \n",
    "#has to be equal: g = 0.5466 \n",
    "\n",
    "# Since our gobs < g, it falls into the non-rejection zone. \n",
    "#Therefore, we fail to reject the null hypotheis!!!! \n"
   ]
  },
  {
   "cell_type": "markdown",
   "id": "25e9c3f7",
   "metadata": {},
   "source": [
    "Var_D1=1.496712, Var_D2=1.588511, Var_D3=1.547762\n",
    "4.632985323130945\n",
    "the sum of variances (Var_D1 + Var_D2 + Var_D3) = 4.632985"
   ]
  },
  {
   "cell_type": "code",
   "execution_count": null,
   "id": "36efdc85",
   "metadata": {},
   "outputs": [],
   "source": []
  }
 ],
 "metadata": {
  "kernelspec": {
   "display_name": "Python 3 (ipykernel)",
   "language": "python",
   "name": "python3"
  },
  "language_info": {
   "codemirror_mode": {
    "name": "ipython",
    "version": 3
   },
   "file_extension": ".py",
   "mimetype": "text/x-python",
   "name": "python",
   "nbconvert_exporter": "python",
   "pygments_lexer": "ipython3",
   "version": "3.8.12"
  }
 },
 "nbformat": 4,
 "nbformat_minor": 5
}
